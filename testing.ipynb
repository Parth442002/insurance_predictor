{
 "cells": [
  {
   "cell_type": "code",
   "execution_count": 2,
   "metadata": {},
   "outputs": [],
   "source": [
    "import numpy as np\n",
    "import pandas as pd\n",
    "import matplotlib.pyplot as plt\n",
    "import statistics as stat\n",
    "import seaborn as sns\n",
    "import joblib"
   ]
  },
  {
   "cell_type": "code",
   "execution_count": 3,
   "metadata": {},
   "outputs": [],
   "source": [
    "class MachineLearning:\n",
    "  def __init__(self,model_name,values):\n",
    "    self.standard_scaler=joblib.load('models/standard_scaler.joblib')\n",
    "    self.linear_regression=joblib.load('models/linear_regression.joblib')\n",
    "    self.polynomial_features=joblib.load('models/polynomial_features.joblib')\n",
    "    self.polynomial_regression=joblib.load('models/polynomial_regression.joblib')\n",
    "    self.random_forest=joblib.load('models/random_forest.joblib')\n",
    "    self.svr=joblib.load('models/svr.joblib')\n",
    "    self.adaboost=joblib.load('models/adaboost.joblib')\n",
    "\n",
    "\n",
    "    self.model_name=model_name\n",
    "    self.columns=['age','sex','bmi','children','smoker','region']\n",
    "    self.values=values\n",
    "\n",
    "    user_values=dict(zip(self.columns,self.values))\n",
    "\n",
    "    self.dataset=pd.DataFrame(columns=self.columns)\n",
    "    self.dataset=self.dataset.append(user_values,ignore_index=True)\n",
    "    \n",
    "  def calculate(self):\n",
    "    new_variable = {\n",
    "        \"sex\": {\"male\": 0, \"female\": 1},\n",
    "        \"smoker\": {\"yes\": 0, \"no\": 1},\n",
    "        \"region\": {\"northeast\": 0, \"northwest\": 1, \"southeast\": 2, \"southwest\": 3},\n",
    "      }\n",
    "    self.dataset.replace(new_variable, inplace=True)\n",
    "    x_pred=self.dataset.iloc[0,:].values\n",
    "    x_pred=self.standard_scaler.transform([x_pred])\n",
    "\n",
    "\n",
    "    if self.model_name=='Linear Regression':\n",
    "      prediction=self.linear_regression.predict(x_pred)\n",
    "      return prediction.tolist()[0]\n",
    "\n",
    "    elif self.model_name=='Polynomial Regression':\n",
    "      x_pred_poly=self.polynomial_features.transform(x_pred)\n",
    "      prediction=self.polynomial_regression.predict(x_pred_poly)\n",
    "      return prediction.tolist()[0]\n",
    "\n",
    "    elif self.model_name=='Random Forest':\n",
    "      prediction=self.random_forest.predict(x_pred)\n",
    "      return prediction.tolist()[0]\n",
    "\n",
    "    elif self.model_name=='Support Vector Machines':\n",
    "      prediction=self.svr.predict(x_pred)\n",
    "      return prediction.tolist()[0]\n",
    "\n",
    "    elif self.model_name=='Adaboost':\n",
    "      prediction=self.linear_regression.predict(x_pred)\n",
    "      return prediction.tolist()[0]\n",
    "    else:\n",
    "      return \"We have encountered an Error. Please Try again\""
   ]
  },
  {
   "cell_type": "code",
   "execution_count": 4,
   "metadata": {},
   "outputs": [
    {
     "name": "stderr",
     "output_type": "stream",
     "text": [
      "/var/folders/_l/nyk3mgld6gl9lvm8gzrjd2pm0000gn/T/ipykernel_65168/3176377355.py:19: FutureWarning: The frame.append method is deprecated and will be removed from pandas in a future version. Use pandas.concat instead.\n",
      "  self.dataset=self.dataset.append(user_values,ignore_index=True)\n"
     ]
    }
   ],
   "source": [
    "lin_red=MachineLearning(\n",
    "        model_name='Polynomial Regression',\n",
    "        values=[22, 'male', 22.0, 2, 'yes', 'northeast']\n",
    "        )"
   ]
  },
  {
   "cell_type": "code",
   "execution_count": 5,
   "metadata": {},
   "outputs": [
    {
     "data": {
      "text/plain": [
       "15932.0"
      ]
     },
     "execution_count": 5,
     "metadata": {},
     "output_type": "execute_result"
    }
   ],
   "source": [
    "lin_red.calculate()"
   ]
  },
  {
   "cell_type": "code",
   "execution_count": null,
   "metadata": {},
   "outputs": [],
   "source": []
  }
 ],
 "metadata": {
  "interpreter": {
   "hash": "97f0da582a04741314aa540645e41b329abf540acdcf4cfd7f4ed2d2aadb9089"
  },
  "kernelspec": {
   "display_name": "Python 3.8.12 ('insurance': venv)",
   "language": "python",
   "name": "python3"
  },
  "language_info": {
   "codemirror_mode": {
    "name": "ipython",
    "version": 3
   },
   "file_extension": ".py",
   "mimetype": "text/x-python",
   "name": "python",
   "nbconvert_exporter": "python",
   "pygments_lexer": "ipython3",
   "version": "3.8.12"
  },
  "orig_nbformat": 4
 },
 "nbformat": 4,
 "nbformat_minor": 2
}
